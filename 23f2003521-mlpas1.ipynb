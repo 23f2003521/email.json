{
 "cells": [
  {
   "cell_type": "code",
   "execution_count": 1,
   "id": "4b18593f",
   "metadata": {
    "execution": {
     "iopub.execute_input": "2025-06-30T09:08:05.574466Z",
     "iopub.status.busy": "2025-06-30T09:08:05.574107Z",
     "iopub.status.idle": "2025-06-30T09:08:09.105016Z",
     "shell.execute_reply": "2025-06-30T09:08:09.104089Z"
    },
    "papermill": {
     "duration": 3.544464,
     "end_time": "2025-06-30T09:08:09.106621",
     "exception": false,
     "start_time": "2025-06-30T09:08:05.562157",
     "status": "completed"
    },
    "tags": []
   },
   "outputs": [],
   "source": [
    "import warnings\n",
    "warnings.filterwarnings('ignore')\n",
    "\n",
    "import numpy as np                      # Numerical computations\n",
    "import pandas as pd                    # Data manipulation and analysis\n",
    "import seaborn as sns                  # Statistical data visualization\n",
    "import matplotlib.pyplot as plt        # Plotting graphs and charts"
   ]
  },
  {
   "cell_type": "markdown",
   "id": "7bcc5f29",
   "metadata": {
    "papermill": {
     "duration": 0.008504,
     "end_time": "2025-06-30T09:08:09.124234",
     "exception": false,
     "start_time": "2025-06-30T09:08:09.115730",
     "status": "completed"
    },
    "tags": []
   },
   "source": [
    "Imported Required Python libraries"
   ]
  },
  {
   "cell_type": "markdown",
   "id": "eb8ac7ee",
   "metadata": {
    "papermill": {
     "duration": 0.008009,
     "end_time": "2025-06-30T09:08:09.140549",
     "exception": false,
     "start_time": "2025-06-30T09:08:09.132540",
     "status": "completed"
    },
    "tags": []
   },
   "source": [
    "# Dataset"
   ]
  },
  {
   "cell_type": "code",
   "execution_count": 2,
   "id": "1e927142",
   "metadata": {
    "execution": {
     "iopub.execute_input": "2025-06-30T09:08:09.158726Z",
     "iopub.status.busy": "2025-06-30T09:08:09.157980Z",
     "iopub.status.idle": "2025-06-30T09:08:09.323037Z",
     "shell.execute_reply": "2025-06-30T09:08:09.322106Z"
    },
    "papermill": {
     "duration": 0.176512,
     "end_time": "2025-06-30T09:08:09.325337",
     "exception": false,
     "start_time": "2025-06-30T09:08:09.148825",
     "status": "completed"
    },
    "tags": []
   },
   "outputs": [],
   "source": [
    "train=pd.read_csv(\"/kaggle/input/mlp-term-2-2025-kaggle-assignment-1/train.csv\")\n",
    "test=pd.read_csv(\"/kaggle/input/mlp-term-2-2025-kaggle-assignment-1/test.csv\")\n",
    "ss=pd.read_csv(\"/kaggle/input/mlp-term-2-2025-kaggle-assignment-1/sample_submission.csv\")"
   ]
  },
  {
   "cell_type": "markdown",
   "id": "03c29733",
   "metadata": {
    "papermill": {
     "duration": 0.008971,
     "end_time": "2025-06-30T09:08:09.346026",
     "exception": false,
     "start_time": "2025-06-30T09:08:09.337055",
     "status": "completed"
    },
    "tags": []
   },
   "source": [
    "# data types of different columns"
   ]
  },
  {
   "cell_type": "code",
   "execution_count": 3,
   "id": "c5069415",
   "metadata": {
    "execution": {
     "iopub.execute_input": "2025-06-30T09:08:09.367146Z",
     "iopub.status.busy": "2025-06-30T09:08:09.366503Z",
     "iopub.status.idle": "2025-06-30T09:08:09.454225Z",
     "shell.execute_reply": "2025-06-30T09:08:09.451579Z"
    },
    "papermill": {
     "duration": 0.099097,
     "end_time": "2025-06-30T09:08:09.456204",
     "exception": false,
     "start_time": "2025-06-30T09:08:09.357107",
     "status": "completed"
    },
    "tags": []
   },
   "outputs": [
    {
     "name": "stdout",
     "output_type": "stream",
     "text": [
      "<class 'pandas.core.frame.DataFrame'>\n",
      "RangeIndex: 40000 entries, 0 to 39999\n",
      "Data columns (total 12 columns):\n",
      " #   Column       Non-Null Count  Dtype  \n",
      "---  ------       --------------  -----  \n",
      " 0   id           40000 non-null  int64  \n",
      " 1   airline      35387 non-null  object \n",
      " 2   flight       40000 non-null  object \n",
      " 3   source       40000 non-null  object \n",
      " 4   departure    35208 non-null  object \n",
      " 5   stops        37681 non-null  object \n",
      " 6   arrival      40000 non-null  object \n",
      " 7   destination  40000 non-null  object \n",
      " 8   class        40000 non-null  object \n",
      " 9   duration     36987 non-null  float64\n",
      " 10  days_left    35562 non-null  float64\n",
      " 11  price        40000 non-null  int64  \n",
      "dtypes: float64(2), int64(2), object(8)\n",
      "memory usage: 3.7+ MB\n"
     ]
    },
    {
     "data": {
      "text/html": [
       "<div>\n",
       "<style scoped>\n",
       "    .dataframe tbody tr th:only-of-type {\n",
       "        vertical-align: middle;\n",
       "    }\n",
       "\n",
       "    .dataframe tbody tr th {\n",
       "        vertical-align: top;\n",
       "    }\n",
       "\n",
       "    .dataframe thead th {\n",
       "        text-align: right;\n",
       "    }\n",
       "</style>\n",
       "<table border=\"1\" class=\"dataframe\">\n",
       "  <thead>\n",
       "    <tr style=\"text-align: right;\">\n",
       "      <th></th>\n",
       "      <th>id</th>\n",
       "      <th>airline</th>\n",
       "      <th>flight</th>\n",
       "      <th>source</th>\n",
       "      <th>departure</th>\n",
       "      <th>stops</th>\n",
       "      <th>arrival</th>\n",
       "      <th>destination</th>\n",
       "      <th>class</th>\n",
       "      <th>duration</th>\n",
       "      <th>days_left</th>\n",
       "      <th>price</th>\n",
       "    </tr>\n",
       "  </thead>\n",
       "  <tbody>\n",
       "    <tr>\n",
       "      <th>0</th>\n",
       "      <td>0</td>\n",
       "      <td>Vistara</td>\n",
       "      <td>UK-930</td>\n",
       "      <td>Mumbai</td>\n",
       "      <td>Early_Morning</td>\n",
       "      <td>one</td>\n",
       "      <td>Night</td>\n",
       "      <td>Chennai</td>\n",
       "      <td>Business</td>\n",
       "      <td>NaN</td>\n",
       "      <td>40.0</td>\n",
       "      <td>64173</td>\n",
       "    </tr>\n",
       "    <tr>\n",
       "      <th>1</th>\n",
       "      <td>1</td>\n",
       "      <td>Air_India</td>\n",
       "      <td>AI-539</td>\n",
       "      <td>Chennai</td>\n",
       "      <td>Evening</td>\n",
       "      <td>one</td>\n",
       "      <td>Morning</td>\n",
       "      <td>Mumbai</td>\n",
       "      <td>Economy</td>\n",
       "      <td>16.08</td>\n",
       "      <td>26.0</td>\n",
       "      <td>4357</td>\n",
       "    </tr>\n",
       "    <tr>\n",
       "      <th>2</th>\n",
       "      <td>2</td>\n",
       "      <td>SpiceJet</td>\n",
       "      <td>SG-8107</td>\n",
       "      <td>Delhi</td>\n",
       "      <td>Early_Morning</td>\n",
       "      <td>zero</td>\n",
       "      <td>Morning</td>\n",
       "      <td>Chennai</td>\n",
       "      <td>Economy</td>\n",
       "      <td>2.92</td>\n",
       "      <td>25.0</td>\n",
       "      <td>3251</td>\n",
       "    </tr>\n",
       "    <tr>\n",
       "      <th>3</th>\n",
       "      <td>3</td>\n",
       "      <td>NaN</td>\n",
       "      <td>0.00E+00</td>\n",
       "      <td>Hyderabad</td>\n",
       "      <td>Early_Morning</td>\n",
       "      <td>zero</td>\n",
       "      <td>Morning</td>\n",
       "      <td>Bangalore</td>\n",
       "      <td>Economy</td>\n",
       "      <td>1.50</td>\n",
       "      <td>22.0</td>\n",
       "      <td>1776</td>\n",
       "    </tr>\n",
       "    <tr>\n",
       "      <th>4</th>\n",
       "      <td>4</td>\n",
       "      <td>Air_India</td>\n",
       "      <td>AI-569</td>\n",
       "      <td>Chennai</td>\n",
       "      <td>Early_Morning</td>\n",
       "      <td>one</td>\n",
       "      <td>Morning</td>\n",
       "      <td>Bangalore</td>\n",
       "      <td>Economy</td>\n",
       "      <td>4.83</td>\n",
       "      <td>20.0</td>\n",
       "      <td>3584</td>\n",
       "    </tr>\n",
       "  </tbody>\n",
       "</table>\n",
       "</div>"
      ],
      "text/plain": [
       "   id    airline    flight     source      departure stops  arrival  \\\n",
       "0   0    Vistara    UK-930     Mumbai  Early_Morning   one    Night   \n",
       "1   1  Air_India    AI-539    Chennai        Evening   one  Morning   \n",
       "2   2   SpiceJet   SG-8107      Delhi  Early_Morning  zero  Morning   \n",
       "3   3        NaN  0.00E+00  Hyderabad  Early_Morning  zero  Morning   \n",
       "4   4  Air_India    AI-569    Chennai  Early_Morning   one  Morning   \n",
       "\n",
       "  destination     class  duration  days_left  price  \n",
       "0     Chennai  Business       NaN       40.0  64173  \n",
       "1      Mumbai   Economy     16.08       26.0   4357  \n",
       "2     Chennai   Economy      2.92       25.0   3251  \n",
       "3   Bangalore   Economy      1.50       22.0   1776  \n",
       "4   Bangalore   Economy      4.83       20.0   3584  "
      ]
     },
     "execution_count": 3,
     "metadata": {},
     "output_type": "execute_result"
    }
   ],
   "source": [
    "train.info()\n",
    "train.describe()\n",
    "train.head()"
   ]
  },
  {
   "cell_type": "code",
   "execution_count": 4,
   "id": "09ef7977",
   "metadata": {
    "execution": {
     "iopub.execute_input": "2025-06-30T09:08:09.480955Z",
     "iopub.status.busy": "2025-06-30T09:08:09.480451Z",
     "iopub.status.idle": "2025-06-30T09:08:09.515259Z",
     "shell.execute_reply": "2025-06-30T09:08:09.514185Z"
    },
    "papermill": {
     "duration": 0.047109,
     "end_time": "2025-06-30T09:08:09.516935",
     "exception": false,
     "start_time": "2025-06-30T09:08:09.469826",
     "status": "completed"
    },
    "tags": []
   },
   "outputs": [
    {
     "name": "stdout",
     "output_type": "stream",
     "text": [
      "<class 'pandas.core.frame.DataFrame'>\n",
      "RangeIndex: 10000 entries, 0 to 9999\n",
      "Data columns (total 11 columns):\n",
      " #   Column       Non-Null Count  Dtype  \n",
      "---  ------       --------------  -----  \n",
      " 0   id           10000 non-null  int64  \n",
      " 1   airline      9452 non-null   object \n",
      " 2   flight       10000 non-null  object \n",
      " 3   source       10000 non-null  object \n",
      " 4   departure    9080 non-null   object \n",
      " 5   stops        9349 non-null   object \n",
      " 6   arrival      10000 non-null  object \n",
      " 7   destination  10000 non-null  object \n",
      " 8   class        10000 non-null  object \n",
      " 9   duration     9418 non-null   float64\n",
      " 10  days_left    9304 non-null   float64\n",
      "dtypes: float64(2), int64(1), object(8)\n",
      "memory usage: 859.5+ KB\n"
     ]
    },
    {
     "data": {
      "text/html": [
       "<div>\n",
       "<style scoped>\n",
       "    .dataframe tbody tr th:only-of-type {\n",
       "        vertical-align: middle;\n",
       "    }\n",
       "\n",
       "    .dataframe tbody tr th {\n",
       "        vertical-align: top;\n",
       "    }\n",
       "\n",
       "    .dataframe thead th {\n",
       "        text-align: right;\n",
       "    }\n",
       "</style>\n",
       "<table border=\"1\" class=\"dataframe\">\n",
       "  <thead>\n",
       "    <tr style=\"text-align: right;\">\n",
       "      <th></th>\n",
       "      <th>id</th>\n",
       "      <th>airline</th>\n",
       "      <th>flight</th>\n",
       "      <th>source</th>\n",
       "      <th>departure</th>\n",
       "      <th>stops</th>\n",
       "      <th>arrival</th>\n",
       "      <th>destination</th>\n",
       "      <th>class</th>\n",
       "      <th>duration</th>\n",
       "      <th>days_left</th>\n",
       "    </tr>\n",
       "  </thead>\n",
       "  <tbody>\n",
       "    <tr>\n",
       "      <th>0</th>\n",
       "      <td>0</td>\n",
       "      <td>Vistara</td>\n",
       "      <td>UK-816</td>\n",
       "      <td>Bangalore</td>\n",
       "      <td>Morning</td>\n",
       "      <td>zero</td>\n",
       "      <td>Afternoon</td>\n",
       "      <td>Delhi</td>\n",
       "      <td>Economy</td>\n",
       "      <td>2.67</td>\n",
       "      <td>18.0</td>\n",
       "    </tr>\n",
       "    <tr>\n",
       "      <th>1</th>\n",
       "      <td>1</td>\n",
       "      <td>Air_India</td>\n",
       "      <td>AI-440</td>\n",
       "      <td>Chennai</td>\n",
       "      <td>Early_Morning</td>\n",
       "      <td>zero</td>\n",
       "      <td>Morning</td>\n",
       "      <td>Delhi</td>\n",
       "      <td>Economy</td>\n",
       "      <td>NaN</td>\n",
       "      <td>5.0</td>\n",
       "    </tr>\n",
       "    <tr>\n",
       "      <th>2</th>\n",
       "      <td>2</td>\n",
       "      <td>SpiceJet</td>\n",
       "      <td>SG-8938</td>\n",
       "      <td>Delhi</td>\n",
       "      <td>Evening</td>\n",
       "      <td>one</td>\n",
       "      <td>Evening</td>\n",
       "      <td>Bangalore</td>\n",
       "      <td>Economy</td>\n",
       "      <td>NaN</td>\n",
       "      <td>44.0</td>\n",
       "    </tr>\n",
       "    <tr>\n",
       "      <th>3</th>\n",
       "      <td>3</td>\n",
       "      <td>Vistara</td>\n",
       "      <td>UK-838</td>\n",
       "      <td>Chennai</td>\n",
       "      <td>Night</td>\n",
       "      <td>one</td>\n",
       "      <td>Evening</td>\n",
       "      <td>Kolkata</td>\n",
       "      <td>Business</td>\n",
       "      <td>21.00</td>\n",
       "      <td>26.0</td>\n",
       "    </tr>\n",
       "    <tr>\n",
       "      <th>4</th>\n",
       "      <td>4</td>\n",
       "      <td>Air_India</td>\n",
       "      <td>AI-429</td>\n",
       "      <td>Delhi</td>\n",
       "      <td>Morning</td>\n",
       "      <td>one</td>\n",
       "      <td>Evening</td>\n",
       "      <td>Mumbai</td>\n",
       "      <td>Business</td>\n",
       "      <td>7.25</td>\n",
       "      <td>22.0</td>\n",
       "    </tr>\n",
       "  </tbody>\n",
       "</table>\n",
       "</div>"
      ],
      "text/plain": [
       "   id    airline   flight     source      departure stops    arrival  \\\n",
       "0   0    Vistara   UK-816  Bangalore        Morning  zero  Afternoon   \n",
       "1   1  Air_India   AI-440    Chennai  Early_Morning  zero    Morning   \n",
       "2   2   SpiceJet  SG-8938      Delhi        Evening   one    Evening   \n",
       "3   3    Vistara   UK-838    Chennai          Night   one    Evening   \n",
       "4   4  Air_India   AI-429      Delhi        Morning   one    Evening   \n",
       "\n",
       "  destination     class  duration  days_left  \n",
       "0       Delhi   Economy      2.67       18.0  \n",
       "1       Delhi   Economy       NaN        5.0  \n",
       "2   Bangalore   Economy       NaN       44.0  \n",
       "3     Kolkata  Business     21.00       26.0  \n",
       "4      Mumbai  Business      7.25       22.0  "
      ]
     },
     "execution_count": 4,
     "metadata": {},
     "output_type": "execute_result"
    }
   ],
   "source": [
    "test.info()\n",
    "test.describe()\n",
    "test.head()"
   ]
  },
  {
   "cell_type": "markdown",
   "id": "5557992e",
   "metadata": {
    "papermill": {
     "duration": 0.009044,
     "end_time": "2025-06-30T09:08:09.535614",
     "exception": false,
     "start_time": "2025-06-30T09:08:09.526570",
     "status": "completed"
    },
    "tags": []
   },
   "source": [
    "# descriptive statistics of numerical columns"
   ]
  },
  {
   "cell_type": "code",
   "execution_count": 5,
   "id": "f20737a5",
   "metadata": {
    "execution": {
     "iopub.execute_input": "2025-06-30T09:08:09.555650Z",
     "iopub.status.busy": "2025-06-30T09:08:09.554831Z",
     "iopub.status.idle": "2025-06-30T09:08:09.579258Z",
     "shell.execute_reply": "2025-06-30T09:08:09.578433Z"
    },
    "papermill": {
     "duration": 0.035884,
     "end_time": "2025-06-30T09:08:09.580664",
     "exception": false,
     "start_time": "2025-06-30T09:08:09.544780",
     "status": "completed"
    },
    "tags": []
   },
   "outputs": [
    {
     "name": "stdout",
     "output_type": "stream",
     "text": [
      "Descriptive statistics on Train dataset\n",
      "\n"
     ]
    },
    {
     "data": {
      "text/html": [
       "<div>\n",
       "<style scoped>\n",
       "    .dataframe tbody tr th:only-of-type {\n",
       "        vertical-align: middle;\n",
       "    }\n",
       "\n",
       "    .dataframe tbody tr th {\n",
       "        vertical-align: top;\n",
       "    }\n",
       "\n",
       "    .dataframe thead th {\n",
       "        text-align: right;\n",
       "    }\n",
       "</style>\n",
       "<table border=\"1\" class=\"dataframe\">\n",
       "  <thead>\n",
       "    <tr style=\"text-align: right;\">\n",
       "      <th></th>\n",
       "      <th>duration</th>\n",
       "      <th>price</th>\n",
       "      <th>days_left</th>\n",
       "    </tr>\n",
       "  </thead>\n",
       "  <tbody>\n",
       "    <tr>\n",
       "      <th>count</th>\n",
       "      <td>36987.000000</td>\n",
       "      <td>40000.00000</td>\n",
       "      <td>35562.000000</td>\n",
       "    </tr>\n",
       "    <tr>\n",
       "      <th>mean</th>\n",
       "      <td>12.004088</td>\n",
       "      <td>20801.49025</td>\n",
       "      <td>26.197936</td>\n",
       "    </tr>\n",
       "    <tr>\n",
       "      <th>std</th>\n",
       "      <td>7.108063</td>\n",
       "      <td>22729.14842</td>\n",
       "      <td>13.469232</td>\n",
       "    </tr>\n",
       "    <tr>\n",
       "      <th>min</th>\n",
       "      <td>0.830000</td>\n",
       "      <td>1105.00000</td>\n",
       "      <td>1.000000</td>\n",
       "    </tr>\n",
       "    <tr>\n",
       "      <th>25%</th>\n",
       "      <td>6.670000</td>\n",
       "      <td>4687.00000</td>\n",
       "      <td>15.000000</td>\n",
       "    </tr>\n",
       "    <tr>\n",
       "      <th>50%</th>\n",
       "      <td>11.080000</td>\n",
       "      <td>7353.00000</td>\n",
       "      <td>26.000000</td>\n",
       "    </tr>\n",
       "    <tr>\n",
       "      <th>75%</th>\n",
       "      <td>15.920000</td>\n",
       "      <td>42521.00000</td>\n",
       "      <td>38.000000</td>\n",
       "    </tr>\n",
       "    <tr>\n",
       "      <th>max</th>\n",
       "      <td>47.080000</td>\n",
       "      <td>114704.00000</td>\n",
       "      <td>49.000000</td>\n",
       "    </tr>\n",
       "  </tbody>\n",
       "</table>\n",
       "</div>"
      ],
      "text/plain": [
       "           duration         price     days_left\n",
       "count  36987.000000   40000.00000  35562.000000\n",
       "mean      12.004088   20801.49025     26.197936\n",
       "std        7.108063   22729.14842     13.469232\n",
       "min        0.830000    1105.00000      1.000000\n",
       "25%        6.670000    4687.00000     15.000000\n",
       "50%       11.080000    7353.00000     26.000000\n",
       "75%       15.920000   42521.00000     38.000000\n",
       "max       47.080000  114704.00000     49.000000"
      ]
     },
     "execution_count": 5,
     "metadata": {},
     "output_type": "execute_result"
    }
   ],
   "source": [
    "# Descriptive statistics for numerical columns\n",
    "print(\"Descriptive statistics on Train dataset\\n\")\n",
    "train[['duration', 'price','days_left']].describe()\n",
    "\n"
   ]
  },
  {
   "cell_type": "code",
   "execution_count": 6,
   "id": "ff66badc",
   "metadata": {
    "execution": {
     "iopub.execute_input": "2025-06-30T09:08:09.600888Z",
     "iopub.status.busy": "2025-06-30T09:08:09.600218Z",
     "iopub.status.idle": "2025-06-30T09:08:09.615580Z",
     "shell.execute_reply": "2025-06-30T09:08:09.614670Z"
    },
    "papermill": {
     "duration": 0.0269,
     "end_time": "2025-06-30T09:08:09.616952",
     "exception": false,
     "start_time": "2025-06-30T09:08:09.590052",
     "status": "completed"
    },
    "tags": []
   },
   "outputs": [
    {
     "name": "stdout",
     "output_type": "stream",
     "text": [
      "Descriptive statistics on Test dataset\n",
      "\n"
     ]
    },
    {
     "data": {
      "text/html": [
       "<div>\n",
       "<style scoped>\n",
       "    .dataframe tbody tr th:only-of-type {\n",
       "        vertical-align: middle;\n",
       "    }\n",
       "\n",
       "    .dataframe tbody tr th {\n",
       "        vertical-align: top;\n",
       "    }\n",
       "\n",
       "    .dataframe thead th {\n",
       "        text-align: right;\n",
       "    }\n",
       "</style>\n",
       "<table border=\"1\" class=\"dataframe\">\n",
       "  <thead>\n",
       "    <tr style=\"text-align: right;\">\n",
       "      <th></th>\n",
       "      <th>duration</th>\n",
       "      <th>days_left</th>\n",
       "    </tr>\n",
       "  </thead>\n",
       "  <tbody>\n",
       "    <tr>\n",
       "      <th>count</th>\n",
       "      <td>9418.000000</td>\n",
       "      <td>9304.000000</td>\n",
       "    </tr>\n",
       "    <tr>\n",
       "      <th>mean</th>\n",
       "      <td>12.005125</td>\n",
       "      <td>26.163156</td>\n",
       "    </tr>\n",
       "    <tr>\n",
       "      <th>std</th>\n",
       "      <td>7.086652</td>\n",
       "      <td>13.453717</td>\n",
       "    </tr>\n",
       "    <tr>\n",
       "      <th>min</th>\n",
       "      <td>0.920000</td>\n",
       "      <td>1.000000</td>\n",
       "    </tr>\n",
       "    <tr>\n",
       "      <th>25%</th>\n",
       "      <td>6.670000</td>\n",
       "      <td>15.000000</td>\n",
       "    </tr>\n",
       "    <tr>\n",
       "      <th>50%</th>\n",
       "      <td>11.170000</td>\n",
       "      <td>26.000000</td>\n",
       "    </tr>\n",
       "    <tr>\n",
       "      <th>75%</th>\n",
       "      <td>15.920000</td>\n",
       "      <td>38.000000</td>\n",
       "    </tr>\n",
       "    <tr>\n",
       "      <th>max</th>\n",
       "      <td>40.420000</td>\n",
       "      <td>49.000000</td>\n",
       "    </tr>\n",
       "  </tbody>\n",
       "</table>\n",
       "</div>"
      ],
      "text/plain": [
       "          duration    days_left\n",
       "count  9418.000000  9304.000000\n",
       "mean     12.005125    26.163156\n",
       "std       7.086652    13.453717\n",
       "min       0.920000     1.000000\n",
       "25%       6.670000    15.000000\n",
       "50%      11.170000    26.000000\n",
       "75%      15.920000    38.000000\n",
       "max      40.420000    49.000000"
      ]
     },
     "execution_count": 6,
     "metadata": {},
     "output_type": "execute_result"
    }
   ],
   "source": [
    "print(\"Descriptive statistics on Test dataset\\n\")\n",
    "test[['duration','days_left']].describe()"
   ]
  },
  {
   "cell_type": "markdown",
   "id": "a7b32fb4",
   "metadata": {
    "papermill": {
     "duration": 0.011957,
     "end_time": "2025-06-30T09:08:09.641023",
     "exception": false,
     "start_time": "2025-06-30T09:08:09.629066",
     "status": "completed"
    },
    "tags": []
   },
   "source": [
    "# Identify and handle the missing values"
   ]
  },
  {
   "cell_type": "code",
   "execution_count": 7,
   "id": "91c08d48",
   "metadata": {
    "execution": {
     "iopub.execute_input": "2025-06-30T09:08:09.663962Z",
     "iopub.status.busy": "2025-06-30T09:08:09.663130Z",
     "iopub.status.idle": "2025-06-30T09:08:11.361047Z",
     "shell.execute_reply": "2025-06-30T09:08:11.360284Z"
    },
    "papermill": {
     "duration": 1.711845,
     "end_time": "2025-06-30T09:08:11.362460",
     "exception": false,
     "start_time": "2025-06-30T09:08:09.650615",
     "status": "completed"
    },
    "tags": []
   },
   "outputs": [
    {
     "name": "stdout",
     "output_type": "stream",
     "text": [
      "Count of missing values:\n",
      "\n",
      "id                0\n",
      "airline        4613\n",
      "flight            0\n",
      "source            0\n",
      "departure      4792\n",
      "stops          2319\n",
      "arrival           0\n",
      "destination       0\n",
      "class             0\n",
      "duration       3013\n",
      "days_left      4438\n",
      "price             0\n",
      "dtype: int64\n",
      "Visualizing missing values:\n",
      "\n"
     ]
    },
    {
     "data": {
      "image/png": "[encoded data removed]",
      "text/plain": [
       "<Figure size 300x200 with 1 Axes>"
      ]
     },
     "metadata": {},
     "output_type": "display_data"
    },
    {
     "data": {
      "image/png": "[encoded data removed]",
      "text/plain": [
       "<Figure size 300x200 with 1 Axes>"
      ]
     },
     "metadata": {},
     "output_type": "display_data"
    },
    {
     "data": {
      "image/png": "[encoded data removed]",
      "text/plain": [
       "<Figure size 300x200 with 1 Axes>"
      ]
     },
     "metadata": {},
     "output_type": "display_data"
    }
   ],
   "source": [
    "print(\"Count of missing values:\\n\")\n",
    "# Count of missing values\n",
    "missing_vals = train.isnull().sum()\n",
    "print(missing_vals)\n",
    "\n",
    "print(\"Visualizing missing values:\\n\")\n",
    "# Visualize missing data\n",
    "plt.figure(figsize=(3, 2))\n",
    "sns.heatmap(train.isnull(), cbar=False, cmap='viridis')\n",
    "plt.title(\"Missing Value Heatmap\")\n",
    "plt.show()\n",
    "\n",
    "\n",
    "\n",
    "# Example: Duration distribution\n",
    "plt.figure(figsize=(3, 2))\n",
    "sns.histplot(train['duration'], kde=True)\n",
    "plt.axvline(train['duration'].mean(), color='red', linestyle='--', label='Mean')\n",
    "plt.title(\"Duration Distribution with Mean Line\")\n",
    "plt.legend()\n",
    "plt.show()\n",
    "\n",
    "\n",
    "\n",
    "# Example: Duration distribution\n",
    "plt.figure(figsize=(3, 2))\n",
    "sns.histplot(train['days_left'], kde=True)\n",
    "plt.axvline(train['days_left'].mean(), color='red', linestyle='--', label='Mean')\n",
    "plt.title(\"Days_left Distribution with Mean Line\")\n",
    "plt.legend()\n",
    "plt.show()\n"
   ]
  },
  {
   "cell_type": "markdown",
   "id": "d86f6987",
   "metadata": {
    "papermill": {
     "duration": 0.011809,
     "end_time": "2025-06-30T09:08:11.386892",
     "exception": false,
     "start_time": "2025-06-30T09:08:11.375083",
     "status": "completed"
    },
    "tags": []
   },
   "source": [
    "** Interpretation of the Duration Plot**\n",
    "The distribution is right-skewed, meaning most durations are shorter, with a few long flights stretching the tail.\n",
    "\n",
    "The red dashed line (mean) is slightly to the right of the central peak.\n",
    "\n",
    "This suggests that while the mean is still a valid central measure, it is affected by outliers (longer durations) so we will use median to fill nan values.\n",
    "\n",
    "**Interpretation of the days_left Distribution**\n",
    "The distribution is roughly uniform — values are spread almost evenly between 0 and 50.\n",
    "\n",
    "The mean (red dashed line) lies almost at the center, suggesting it represents the central tendency quite well.\n",
    "\n",
    "\n",
    "\n"
   ]
  },
  {
   "cell_type": "code",
   "execution_count": 8,
   "id": "0a29bbbf",
   "metadata": {
    "execution": {
     "iopub.execute_input": "2025-06-30T09:08:11.411154Z",
     "iopub.status.busy": "2025-06-30T09:08:11.410871Z",
     "iopub.status.idle": "2025-06-30T09:08:11.476141Z",
     "shell.execute_reply": "2025-06-30T09:08:11.475471Z"
    },
    "papermill": {
     "duration": 0.079251,
     "end_time": "2025-06-30T09:08:11.477787",
     "exception": false,
     "start_time": "2025-06-30T09:08:11.398536",
     "status": "completed"
    },
    "tags": []
   },
   "outputs": [],
   "source": [
    "train['duration'] = train['duration'].fillna(train['duration'].median())\n",
    "test['duration'] = test['duration'].fillna(test['duration'].median())\n",
    "\n",
    "# 2. Fill days_left with mean\n",
    "train['days_left'] = train['days_left'].fillna(train['days_left'].mean())\n",
    "test['days_left'] = test['days_left'].fillna(test['days_left'].mean())\n",
    "\n",
    "# 3. Fill categorical columns with mode\n",
    "categorical_cols = train.select_dtypes(include='object').columns\n",
    "\n",
    "for col in categorical_cols:\n",
    "    mode_val_train = train[col].mode()[0]\n",
    "    train[col] = train[col].fillna(mode_val_train)\n",
    "    \n",
    "    if col in test.columns:\n",
    "        mode_val_test = test[col].mode()[0]\n",
    "        test[col] = test[col].fillna(mode_val_test)"
   ]
  },
  {
   "cell_type": "code",
   "execution_count": 9,
   "id": "707edc17",
   "metadata": {
    "execution": {
     "iopub.execute_input": "2025-06-30T09:08:11.502721Z",
     "iopub.status.busy": "2025-06-30T09:08:11.501947Z",
     "iopub.status.idle": "2025-06-30T09:08:11.530304Z",
     "shell.execute_reply": "2025-06-30T09:08:11.529333Z"
    },
    "papermill": {
     "duration": 0.042328,
     "end_time": "2025-06-30T09:08:11.531846",
     "exception": false,
     "start_time": "2025-06-30T09:08:11.489518",
     "status": "completed"
    },
    "tags": []
   },
   "outputs": [
    {
     "name": "stdout",
     "output_type": "stream",
     "text": [
      "Count of missing values:\n",
      "\n",
      "id             0\n",
      "airline        0\n",
      "flight         0\n",
      "source         0\n",
      "departure      0\n",
      "stops          0\n",
      "arrival        0\n",
      "destination    0\n",
      "class          0\n",
      "duration       0\n",
      "days_left      0\n",
      "price          0\n",
      "dtype: int64\n",
      "id             0\n",
      "airline        0\n",
      "flight         0\n",
      "source         0\n",
      "departure      0\n",
      "stops          0\n",
      "arrival        0\n",
      "destination    0\n",
      "class          0\n",
      "duration       0\n",
      "days_left      0\n",
      "dtype: int64\n"
     ]
    }
   ],
   "source": [
    "print(\"Count of missing values:\\n\")\n",
    "# Count of missing values\n",
    "missing_vals = train.isnull().sum()\n",
    "print(missing_vals)\n",
    "tmissing_vals = test.isnull().sum()\n",
    "print(tmissing_vals)"
   ]
  },
  {
   "cell_type": "markdown",
   "id": "bfc1d608",
   "metadata": {
    "papermill": {
     "duration": 0.011512,
     "end_time": "2025-06-30T09:08:11.555137",
     "exception": false,
     "start_time": "2025-06-30T09:08:11.543625",
     "status": "completed"
    },
    "tags": []
   },
   "source": [
    "# Identify and handle duplicates"
   ]
  },
  {
   "cell_type": "code",
   "execution_count": 10,
   "id": "44cbd6f2",
   "metadata": {
    "execution": {
     "iopub.execute_input": "2025-06-30T09:08:11.648814Z",
     "iopub.status.busy": "2025-06-30T09:08:11.648472Z",
     "iopub.status.idle": "2025-06-30T09:08:11.715094Z",
     "shell.execute_reply": "2025-06-30T09:08:11.714091Z"
    },
    "papermill": {
     "duration": 0.149561,
     "end_time": "2025-06-30T09:08:11.716411",
     "exception": false,
     "start_time": "2025-06-30T09:08:11.566850",
     "status": "completed"
    },
    "tags": []
   },
   "outputs": [
    {
     "name": "stdout",
     "output_type": "stream",
     "text": [
      "🔍 Duplicate rows in train (excluding 'id'): 320\n",
      "✅ Duplicates removed. New train shape: (39680, 12)\n"
     ]
    }
   ],
   "source": [
    "# Check duplicates in train (excluding 'id')\n",
    "duplicates_in_train = train.duplicated(subset=train.columns.difference(['id']))\n",
    "print(\"🔍 Duplicate rows in train (excluding 'id'):\", duplicates_in_train.sum())\n",
    "\n",
    "# Drop duplicates in train\n",
    "train = train.drop_duplicates(subset=train.columns.difference(['id'])).reset_index(drop=True)\n",
    "\n",
    "print(\"✅ Duplicates removed. New train shape:\", train.shape)\n",
    "\n"
   ]
  },
  {
   "cell_type": "markdown",
   "id": "23e9c90c",
   "metadata": {
    "papermill": {
     "duration": 0.011663,
     "end_time": "2025-06-30T09:08:11.741029",
     "exception": false,
     "start_time": "2025-06-30T09:08:11.729366",
     "status": "completed"
    },
    "tags": []
   },
   "source": [
    "# visualizations and insights \n",
    "**Exploratory Data Analysis (EDA)¶**\n",
    "We explore the dataset visually to understand distributions and relationships between features and the target (price)."
   ]
  },
  {
   "cell_type": "code",
   "execution_count": 11,
   "id": "321b6935",
   "metadata": {
    "execution": {
     "iopub.execute_input": "2025-06-30T09:08:11.766154Z",
     "iopub.status.busy": "2025-06-30T09:08:11.765489Z",
     "iopub.status.idle": "2025-06-30T09:08:12.220076Z",
     "shell.execute_reply": "2025-06-30T09:08:12.219183Z"
    },
    "papermill": {
     "duration": 0.46844,
     "end_time": "2025-06-30T09:08:12.221582",
     "exception": false,
     "start_time": "2025-06-30T09:08:11.753142",
     "status": "completed"
    },
    "tags": []
   },
   "outputs": [
    {
     "data": {
      "image/png": "[encoded data removed]",
      "text/plain": [
       "<Figure size 1000x600 with 1 Axes>"
      ]
     },
     "metadata": {},
     "output_type": "display_data"
    }
   ],
   "source": [
    "plt.figure(figsize=(10,6))\n",
    "sns.histplot(train['price'], bins=50, kde=True)\n",
    "plt.title('Price Distribution')\n",
    "plt.xlabel('Price')\n",
    "plt.ylabel('Frequency')\n",
    "plt.show()"
   ]
  },
  {
   "cell_type": "markdown",
   "id": "ef99dbf3",
   "metadata": {
    "papermill": {
     "duration": 0.012472,
     "end_time": "2025-06-30T09:08:12.246796",
     "exception": false,
     "start_time": "2025-06-30T09:08:12.234324",
     "status": "completed"
    },
    "tags": []
   },
   "source": [
    "Price is right-skewed — typical for price-related data.\n",
    "Means:\n",
    "* The distribution of the price values is not symmetrical.\n",
    "\n",
    "* Instead, the majority of prices are clustered toward the lower end, but there are some very high prices that stretch the distribution to the right (positive side).\n",
    "\n",
    "* This creates a long tail on the right, which is why it's called \"right-skewed\" or \"positively skewed\".\n",
    "\n",
    "  "
   ]
  },
  {
   "cell_type": "code",
   "execution_count": 12,
   "id": "60ef14d5",
   "metadata": {
    "execution": {
     "iopub.execute_input": "2025-06-30T09:08:12.273280Z",
     "iopub.status.busy": "2025-06-30T09:08:12.272732Z",
     "iopub.status.idle": "2025-06-30T09:08:12.395758Z",
     "shell.execute_reply": "2025-06-30T09:08:12.394987Z"
    },
    "papermill": {
     "duration": 0.137831,
     "end_time": "2025-06-30T09:08:12.397184",
     "exception": false,
     "start_time": "2025-06-30T09:08:12.259353",
     "status": "completed"
    },
    "tags": []
   },
   "outputs": [
    {
     "data": {
      "text/plain": [
       "Text(0.5, 1.0, 'Days Left Before Flight Distribution')"
      ]
     },
     "execution_count": 12,
     "metadata": {},
     "output_type": "execute_result"
    },
    {
     "data": {
      "image/png": "[encoded data removed]",
      "text/plain": [
       "<Figure size 640x480 with 1 Axes>"
      ]
     },
     "metadata": {},
     "output_type": "display_data"
    }
   ],
   "source": [
    "sns.boxplot(x=train['days_left'])\n",
    "plt.title('Days Left Before Flight Distribution')"
   ]
  },
  {
   "cell_type": "markdown",
   "id": "68e07696",
   "metadata": {
    "papermill": {
     "duration": 0.012593,
     "end_time": "2025-06-30T09:08:12.422954",
     "exception": false,
     "start_time": "2025-06-30T09:08:12.410361",
     "status": "completed"
    },
    "tags": []
   },
   "source": [
    "**Distribution of Days Left Before Flight¶**\n",
    "To understand how far in advance tickets are usually booked, we visualize the days_left column using a boxplot. This helps us identify the central tendency and any potential outliers in advance booking patterns.\n",
    "\n",
    "Most passengers book flights 10 to 40 days in advance.\n",
    "\n",
    "Booking habits are evenly spread around the median.\n",
    "\n",
    "we do not need outlier removal for this column — days_left is well-behaved."
   ]
  },
  {
   "cell_type": "code",
   "execution_count": 13,
   "id": "cbe86305",
   "metadata": {
    "execution": {
     "iopub.execute_input": "2025-06-30T09:08:12.449931Z",
     "iopub.status.busy": "2025-06-30T09:08:12.449606Z",
     "iopub.status.idle": "2025-06-30T09:08:12.645832Z",
     "shell.execute_reply": "2025-06-30T09:08:12.644976Z"
    },
    "papermill": {
     "duration": 0.211462,
     "end_time": "2025-06-30T09:08:12.647174",
     "exception": false,
     "start_time": "2025-06-30T09:08:12.435712",
     "status": "completed"
    },
    "tags": []
   },
   "outputs": [
    {
     "data": {
      "image/png": "[encoded data removed]",
      "text/plain": [
       "<Figure size 1200x500 with 1 Axes>"
      ]
     },
     "metadata": {},
     "output_type": "display_data"
    }
   ],
   "source": [
    "plt.figure(figsize=(12,5))\n",
    "sns.countplot(data=train, x='airline', order=train['airline'].value_counts().index)\n",
    "plt.title('Flights per Airline')\n",
    "plt.xticks(rotation=45)\n",
    "plt.show()"
   ]
  },
  {
   "cell_type": "markdown",
   "id": "0b62e5c8",
   "metadata": {
    "papermill": {
     "duration": 0.013697,
     "end_time": "2025-06-30T09:08:12.674861",
     "exception": false,
     "start_time": "2025-06-30T09:08:12.661164",
     "status": "completed"
    },
    "tags": []
   },
   "source": [
    "Flights per Airline¶\n",
    "Next, we analyze how many flights each airline contributes to the dataset. This can reveal class imbalance, which is important for model performance—especially when categorical variables are encoded."
   ]
  },
  {
   "cell_type": "code",
   "execution_count": 14,
   "id": "9cd4bd59",
   "metadata": {
    "execution": {
     "iopub.execute_input": "2025-06-30T09:08:12.704095Z",
     "iopub.status.busy": "2025-06-30T09:08:12.703789Z",
     "iopub.status.idle": "2025-06-30T09:08:12.926984Z",
     "shell.execute_reply": "2025-06-30T09:08:12.926115Z"
    },
    "papermill": {
     "duration": 0.239776,
     "end_time": "2025-06-30T09:08:12.928553",
     "exception": false,
     "start_time": "2025-06-30T09:08:12.688777",
     "status": "completed"
    },
    "tags": []
   },
   "outputs": [
    {
     "data": {
      "image/png": "[encoded data removed]",
      "text/plain": [
       "<Figure size 1200x500 with 1 Axes>"
      ]
     },
     "metadata": {},
     "output_type": "display_data"
    }
   ],
   "source": [
    "plt.figure(figsize=(12,5))\n",
    "sns.boxplot(data=train, x='airline', y='price')\n",
    "plt.title('Airline vs Ticket Price')\n",
    "plt.xticks(rotation=45)\n",
    "plt.show()"
   ]
  },
  {
   "cell_type": "markdown",
   "id": "10024b96",
   "metadata": {
    "papermill": {
     "duration": 0.014945,
     "end_time": "2025-06-30T09:08:12.958926",
     "exception": false,
     "start_time": "2025-06-30T09:08:12.943981",
     "status": "completed"
    },
    "tags": []
   },
   "source": [
    "** Insights:**\n",
    "1. Vistara and Air India:\n",
    "These two airlines have much higher ticket price variability.\n",
    "\n",
    "Their median prices are higher than other airlines.\n",
    "\n",
    "The boxes are tall, meaning a wide interquartile range (IQR), indicating variability in pricing.\n",
    "\n",
    "Presence of extreme outliers — possibly business class or international flights.\n",
    "\n",
    "2. SpiceJet, AirAsia, Indigo, GO_FIRST:\n",
    "These are low-cost carriers, as seen by their lower median prices and tighter price ranges.\n",
    "\n",
    "Smaller IQRs suggest more consistent pricing.\n",
    "\n",
    "However, they still show some outliers, which may be for longer routes or last-minute bookings."
   ]
  },
  {
   "cell_type": "code",
   "execution_count": 15,
   "id": "2d8a4ecc",
   "metadata": {
    "execution": {
     "iopub.execute_input": "2025-06-30T09:08:12.989231Z",
     "iopub.status.busy": "2025-06-30T09:08:12.988919Z",
     "iopub.status.idle": "2025-06-30T09:08:13.247166Z",
     "shell.execute_reply": "2025-06-30T09:08:13.246239Z"
    },
    "papermill": {
     "duration": 0.275178,
     "end_time": "2025-06-30T09:08:13.248631",
     "exception": false,
     "start_time": "2025-06-30T09:08:12.973453",
     "status": "completed"
    },
    "tags": []
   },
   "outputs": [
    {
     "data": {
      "image/png": "[encoded data removed]",
      "text/plain": [
       "<Figure size 1200x600 with 1 Axes>"
      ]
     },
     "metadata": {},
     "output_type": "display_data"
    }
   ],
   "source": [
    "df=train.copy()\n",
    "df['log_price'] = np.log1p(df['price'])\n",
    "plt.figure(figsize=(12, 6))\n",
    "sns.boxplot(data=df, x='airline', y='log_price')\n",
    "plt.title(\"Airline vs Log(Ticket Price)\")\n",
    "plt.xticks(rotation=45)\n",
    "plt.ylabel(\"Log Price (log1p)\")\n",
    "plt.xlabel(\"Airline\")\n",
    "plt.tight_layout()\n",
    "plt.show()"
   ]
  },
  {
   "cell_type": "markdown",
   "id": "929f2336",
   "metadata": {
    "papermill": {
     "duration": 0.015229,
     "end_time": "2025-06-30T09:08:13.280012",
     "exception": false,
     "start_time": "2025-06-30T09:08:13.264783",
     "status": "completed"
    },
    "tags": []
   },
   "source": [
    "After log transformation:\n",
    "\n",
    "The spread is reduced.\n",
    "\n",
    "The data appears more symmetric.\n",
    "\n",
    "Outliers are still visible, but they don’t distort the plot as much."
   ]
  },
  {
   "cell_type": "code",
   "execution_count": 16,
   "id": "59dde0f7",
   "metadata": {
    "execution": {
     "iopub.execute_input": "2025-06-30T09:08:13.312729Z",
     "iopub.status.busy": "2025-06-30T09:08:13.311984Z",
     "iopub.status.idle": "2025-06-30T09:08:13.509533Z",
     "shell.execute_reply": "2025-06-30T09:08:13.508639Z"
    },
    "papermill": {
     "duration": 0.215419,
     "end_time": "2025-06-30T09:08:13.511031",
     "exception": false,
     "start_time": "2025-06-30T09:08:13.295612",
     "status": "completed"
    },
    "tags": []
   },
   "outputs": [
    {
     "data": {
      "text/plain": [
       "Text(0.5, 1.0, 'Class vs Price')"
      ]
     },
     "execution_count": 16,
     "metadata": {},
     "output_type": "execute_result"
    },
    {
     "data": {
      "image/png": "[encoded data removed]",
      "text/plain": [
       "<Figure size 640x480 with 1 Axes>"
      ]
     },
     "metadata": {},
     "output_type": "display_data"
    }
   ],
   "source": [
    "sns.boxplot(data=train, x='class', y='price')\n",
    "plt.title(\"Class vs Price\")"
   ]
  },
  {
   "cell_type": "markdown",
   "id": "eac00d5c",
   "metadata": {
    "papermill": {
     "duration": 0.016279,
     "end_time": "2025-06-30T09:08:13.544226",
     "exception": false,
     "start_time": "2025-06-30T09:08:13.527947",
     "status": "completed"
    },
    "tags": []
   },
   "source": [
    "Business class flights are significantly more expensive than economy."
   ]
  },
  {
   "cell_type": "code",
   "execution_count": 17,
   "id": "aa2305dd",
   "metadata": {
    "execution": {
     "iopub.execute_input": "2025-06-30T09:08:13.578243Z",
     "iopub.status.busy": "2025-06-30T09:08:13.577449Z",
     "iopub.status.idle": "2025-06-30T09:08:13.808169Z",
     "shell.execute_reply": "2025-06-30T09:08:13.807260Z"
    },
    "papermill": {
     "duration": 0.249352,
     "end_time": "2025-06-30T09:08:13.809608",
     "exception": false,
     "start_time": "2025-06-30T09:08:13.560256",
     "status": "completed"
    },
    "tags": []
   },
   "outputs": [
    {
     "data": {
      "image/png": "[encoded data removed]",
      "text/plain": [
       "<Figure size 1000x600 with 2 Axes>"
      ]
     },
     "metadata": {},
     "output_type": "display_data"
    }
   ],
   "source": [
    "# Only for numeric features\n",
    "numeric_features = train.select_dtypes(include=['int64', 'float64'])\n",
    "\n",
    "plt.figure(figsize=(10, 6))\n",
    "sns.heatmap(numeric_features.corr(), annot=True, cmap='coolwarm')\n",
    "plt.title(\"Correlation Heatmap\")\n",
    "plt.show()\n"
   ]
  },
  {
   "cell_type": "markdown",
   "id": "cd09ae99",
   "metadata": {
    "papermill": {
     "duration": 0.016859,
     "end_time": "2025-06-30T09:08:13.846425",
     "exception": false,
     "start_time": "2025-06-30T09:08:13.829566",
     "status": "completed"
    },
    "tags": []
   },
   "source": [
    "Helps to find relationships between numerical features like days_left, duration, and price\n",
    "It shows how strongly and in what direction two numeric variables are related.\n",
    "\n",
    "Values range from -1 to 1:\n",
    "\n",
    "1 → Perfect positive correlation (when one increases, the other does too).\n",
    "\n",
    "-1 → Perfect negative correlation (when one increases, the other decreases).\n",
    "\n",
    "0 → No correlation.\n",
    "\n",
    "**duration vs price**\n",
    "Small positive correlation → Longer flight durations slightly increase ticket price\n",
    "\n",
    "days_left vs price:Slight negative correlation → More days left before the flight tends to reduce the price (expected).\n",
    "\n",
    "duration vs days_left:No significant relationship — makes sense as flight length isn't related to when it’s booked.\n",
    "\n",
    "duration affects price somewhat — longer trips may cost more.\n",
    "\n",
    "days_left has a weak inverse relationship — tickets booked early tend to be cheaper.\n",
    "\n",
    "**No strong correlations here — so ML models will need more than just these numeric features (e.g., use categorical ones like airline, class, etc.).**\n",
    "\n"
   ]
  },
  {
   "cell_type": "markdown",
   "id": "cce61e4d",
   "metadata": {
    "papermill": {
     "duration": 0.016753,
     "end_time": "2025-06-30T09:08:13.880331",
     "exception": false,
     "start_time": "2025-06-30T09:08:13.863578",
     "status": "completed"
    },
    "tags": []
   },
   "source": [
    "# Identify and handle outliers"
   ]
  },
  {
   "cell_type": "code",
   "execution_count": 18,
   "id": "725a8111",
   "metadata": {
    "execution": {
     "iopub.execute_input": "2025-06-30T09:08:13.915624Z",
     "iopub.status.busy": "2025-06-30T09:08:13.915308Z",
     "iopub.status.idle": "2025-06-30T09:08:14.050460Z",
     "shell.execute_reply": "2025-06-30T09:08:14.049646Z"
    },
    "papermill": {
     "duration": 0.154556,
     "end_time": "2025-06-30T09:08:14.051848",
     "exception": false,
     "start_time": "2025-06-30T09:08:13.897292",
     "status": "completed"
    },
    "tags": []
   },
   "outputs": [
    {
     "data": {
      "text/html": [
       "<div>\n",
       "<style scoped>\n",
       "    .dataframe tbody tr th:only-of-type {\n",
       "        vertical-align: middle;\n",
       "    }\n",
       "\n",
       "    .dataframe tbody tr th {\n",
       "        vertical-align: top;\n",
       "    }\n",
       "\n",
       "    .dataframe thead th {\n",
       "        text-align: right;\n",
       "    }\n",
       "</style>\n",
       "<table border=\"1\" class=\"dataframe\">\n",
       "  <thead>\n",
       "    <tr style=\"text-align: right;\">\n",
       "      <th></th>\n",
       "      <th>id</th>\n",
       "      <th>airline</th>\n",
       "      <th>flight</th>\n",
       "      <th>source</th>\n",
       "      <th>departure</th>\n",
       "      <th>stops</th>\n",
       "      <th>arrival</th>\n",
       "      <th>destination</th>\n",
       "      <th>class</th>\n",
       "      <th>duration</th>\n",
       "      <th>days_left</th>\n",
       "      <th>price</th>\n",
       "    </tr>\n",
       "  </thead>\n",
       "  <tbody>\n",
       "    <tr>\n",
       "      <th>0</th>\n",
       "      <td>0</td>\n",
       "      <td>Vistara</td>\n",
       "      <td>UK-930</td>\n",
       "      <td>Mumbai</td>\n",
       "      <td>Early_Morning</td>\n",
       "      <td>one</td>\n",
       "      <td>Night</td>\n",
       "      <td>Chennai</td>\n",
       "      <td>Business</td>\n",
       "      <td>11.08</td>\n",
       "      <td>40.0</td>\n",
       "      <td>64173</td>\n",
       "    </tr>\n",
       "    <tr>\n",
       "      <th>1</th>\n",
       "      <td>1</td>\n",
       "      <td>Air_India</td>\n",
       "      <td>AI-539</td>\n",
       "      <td>Chennai</td>\n",
       "      <td>Evening</td>\n",
       "      <td>one</td>\n",
       "      <td>Morning</td>\n",
       "      <td>Mumbai</td>\n",
       "      <td>Economy</td>\n",
       "      <td>16.08</td>\n",
       "      <td>26.0</td>\n",
       "      <td>4357</td>\n",
       "    </tr>\n",
       "    <tr>\n",
       "      <th>2</th>\n",
       "      <td>2</td>\n",
       "      <td>SpiceJet</td>\n",
       "      <td>SG-8107</td>\n",
       "      <td>Delhi</td>\n",
       "      <td>Early_Morning</td>\n",
       "      <td>zero</td>\n",
       "      <td>Morning</td>\n",
       "      <td>Chennai</td>\n",
       "      <td>Economy</td>\n",
       "      <td>2.92</td>\n",
       "      <td>25.0</td>\n",
       "      <td>3251</td>\n",
       "    </tr>\n",
       "    <tr>\n",
       "      <th>3</th>\n",
       "      <td>3</td>\n",
       "      <td>Vistara</td>\n",
       "      <td>0.00E+00</td>\n",
       "      <td>Hyderabad</td>\n",
       "      <td>Early_Morning</td>\n",
       "      <td>zero</td>\n",
       "      <td>Morning</td>\n",
       "      <td>Bangalore</td>\n",
       "      <td>Economy</td>\n",
       "      <td>1.50</td>\n",
       "      <td>22.0</td>\n",
       "      <td>1776</td>\n",
       "    </tr>\n",
       "    <tr>\n",
       "      <th>4</th>\n",
       "      <td>4</td>\n",
       "      <td>Air_India</td>\n",
       "      <td>AI-569</td>\n",
       "      <td>Chennai</td>\n",
       "      <td>Early_Morning</td>\n",
       "      <td>one</td>\n",
       "      <td>Morning</td>\n",
       "      <td>Bangalore</td>\n",
       "      <td>Economy</td>\n",
       "      <td>4.83</td>\n",
       "      <td>20.0</td>\n",
       "      <td>3584</td>\n",
       "    </tr>\n",
       "  </tbody>\n",
       "</table>\n",
       "</div>"
      ],
      "text/plain": [
       "   id    airline    flight     source      departure stops  arrival  \\\n",
       "0   0    Vistara    UK-930     Mumbai  Early_Morning   one    Night   \n",
       "1   1  Air_India    AI-539    Chennai        Evening   one  Morning   \n",
       "2   2   SpiceJet   SG-8107      Delhi  Early_Morning  zero  Morning   \n",
       "3   3    Vistara  0.00E+00  Hyderabad  Early_Morning  zero  Morning   \n",
       "4   4  Air_India    AI-569    Chennai  Early_Morning   one  Morning   \n",
       "\n",
       "  destination     class  duration  days_left  price  \n",
       "0     Chennai  Business     11.08       40.0  64173  \n",
       "1      Mumbai   Economy     16.08       26.0   4357  \n",
       "2     Chennai   Economy      2.92       25.0   3251  \n",
       "3   Bangalore   Economy      1.50       22.0   1776  \n",
       "4   Bangalore   Economy      4.83       20.0   3584  "
      ]
     },
     "execution_count": 18,
     "metadata": {},
     "output_type": "execute_result"
    },
    {
     "data": {
      "image/png": "[encoded data removed]",
      "text/plain": [
       "<Figure size 640x480 with 1 Axes>"
      ]
     },
     "metadata": {},
     "output_type": "display_data"
    }
   ],
   "source": [
    "sns.boxplot(x=train['price'])\n",
    "plt.title(\"Outliers in Price\")\n",
    "train.head()"
   ]
  },
  {
   "cell_type": "markdown",
   "id": "3c1bf1a7",
   "metadata": {
    "papermill": {
     "duration": 0.017961,
     "end_time": "2025-06-30T09:08:14.088438",
     "exception": false,
     "start_time": "2025-06-30T09:08:14.070477",
     "status": "completed"
    },
    "tags": []
   },
   "source": [
    "Outliers in Ticket Price¶\n",
    "This boxplot shows the distribution of ticket prices and helps identify any extreme values (outliers) in the dataset.\n",
    "Box (Middle part): This represents the interquartile range (IQR) — from the 25th percentile (Q1) to the 75th percentile (Q3).\n",
    "\n",
    "Line inside the box: The median (50th percentile) ticket price.\n",
    "\n",
    "\"Whiskers\": These usually extend to Q1 - 1.5×IQR and Q3 + 1.5×IQR.\n",
    "\n",
    "Dots beyond the whiskers: These are outliers, i.e., unusually high prices in dataset"
   ]
  },
  {
   "cell_type": "code",
   "execution_count": 19,
   "id": "897486c7",
   "metadata": {
    "execution": {
     "iopub.execute_input": "2025-06-30T09:08:14.125760Z",
     "iopub.status.busy": "2025-06-30T09:08:14.125407Z",
     "iopub.status.idle": "2025-06-30T09:08:14.146519Z",
     "shell.execute_reply": "2025-06-30T09:08:14.145581Z"
    },
    "papermill": {
     "duration": 0.041594,
     "end_time": "2025-06-30T09:08:14.147929",
     "exception": false,
     "start_time": "2025-06-30T09:08:14.106335",
     "status": "completed"
    },
    "tags": []
   },
   "outputs": [
    {
     "name": "stdout",
     "output_type": "stream",
     "text": [
      "\n",
      "Upper bound : 99119.125\n",
      "\n",
      "Lower bound : -51979.875\n",
      "Number of outliers: 14\n"
     ]
    }
   ],
   "source": [
    "\n",
    "# Remove outliers in price using IQR\n",
    "Q1 = train['price'].quantile(0.25)\n",
    "Q3 = train['price'].quantile(0.75)\n",
    "IQR = Q3 - Q1\n",
    "\n",
    "lower = Q1 - 1.5 * IQR\n",
    "upper = Q3 + 1.5 * IQR\n",
    "\n",
    "print(\"\\nUpper bound :\",upper)\n",
    "print(\"\\nLower bound :\",lower)\n",
    "\n",
    "# Identify outliers\n",
    "outliers = df[(df['price'] < lower) | (df['price'] > upper)]\n",
    "\n",
    "# Count of outliers\n",
    "print(\"Number of outliers:\", outliers.shape[0])\n",
    "\n",
    "\n",
    "# Filter dataset\n",
    "train = train[(train['price'] >= lower) & (train['price'] <= upper)]\n",
    "\n",
    "\n",
    "#droping id and flight from both sets of data , not predictive\n",
    "train.drop(columns=['id', 'flight'], inplace=True)\n",
    "test.drop(columns=['id', 'flight'], inplace=True)\n",
    "\n"
   ]
  },
  {
   "cell_type": "markdown",
   "id": "5ce89d78",
   "metadata": {
    "papermill": {
     "duration": 0.017577,
     "end_time": "2025-06-30T09:08:14.183386",
     "exception": false,
     "start_time": "2025-06-30T09:08:14.165809",
     "status": "completed"
    },
    "tags": []
   },
   "source": [
    "**1. Handling Missing Values¶**\n",
    "The duration column had several missing entries. Since it’s a numeric feature, we fill these missing values with the median, which is robust to outliers.\n",
    "\n",
    "**2. Outlier Removal (Using IQR Method)**\n",
    "\n",
    "Some ticket prices are extremely high, likely due to luxury bookings or data errors. These can negatively affect model performance. We use the Interquartile Range (IQR) method to remove outliers.\n"
   ]
  },
  {
   "cell_type": "code",
   "execution_count": 20,
   "id": "f7d15707",
   "metadata": {
    "execution": {
     "iopub.execute_input": "2025-06-30T09:08:14.221857Z",
     "iopub.status.busy": "2025-06-30T09:08:14.220570Z",
     "iopub.status.idle": "2025-06-30T09:08:14.317308Z",
     "shell.execute_reply": "2025-06-30T09:08:14.316517Z"
    },
    "papermill": {
     "duration": 0.117514,
     "end_time": "2025-06-30T09:08:14.319004",
     "exception": false,
     "start_time": "2025-06-30T09:08:14.201490",
     "status": "completed"
    },
    "tags": []
   },
   "outputs": [],
   "source": [
    "original_train=pd.read_csv(\"/kaggle/input/mlp-term-2-2025-kaggle-assignment-1/train.csv\")\n",
    "original_test=pd.read_csv(\"/kaggle/input/mlp-term-2-2025-kaggle-assignment-1/test.csv\")\n"
   ]
  },
  {
   "cell_type": "code",
   "execution_count": 21,
   "id": "bc546a1a",
   "metadata": {
    "execution": {
     "iopub.execute_input": "2025-06-30T09:08:14.358830Z",
     "iopub.status.busy": "2025-06-30T09:08:14.358457Z",
     "iopub.status.idle": "2025-06-30T09:08:14.363029Z",
     "shell.execute_reply": "2025-06-30T09:08:14.362226Z"
    },
    "papermill": {
     "duration": 0.026713,
     "end_time": "2025-06-30T09:08:14.364411",
     "exception": false,
     "start_time": "2025-06-30T09:08:14.337698",
     "status": "completed"
    },
    "tags": []
   },
   "outputs": [
    {
     "name": "stdout",
     "output_type": "stream",
     "text": [
      "Original train dataset size: 40000\n",
      "Original test dataset size: 10000\n",
      "Cleaned train dataset size: 39666\n",
      "Cleaned test dataset size: 10000\n"
     ]
    }
   ],
   "source": [
    "print(\"Original train dataset size:\", original_train.shape[0])\n",
    "print(\"Original test dataset size:\", original_test.shape[0])\n",
    "print(\"Cleaned train dataset size:\", train.shape[0])\n",
    "print(\"Cleaned test dataset size:\", test.shape[0])"
   ]
  },
  {
   "cell_type": "code",
   "execution_count": 22,
   "id": "14695702",
   "metadata": {
    "execution": {
     "iopub.execute_input": "2025-06-30T09:08:14.402713Z",
     "iopub.status.busy": "2025-06-30T09:08:14.402052Z",
     "iopub.status.idle": "2025-06-30T09:08:15.430365Z",
     "shell.execute_reply": "2025-06-30T09:08:15.429114Z"
    },
    "papermill": {
     "duration": 1.048975,
     "end_time": "2025-06-30T09:08:15.432158",
     "exception": false,
     "start_time": "2025-06-30T09:08:14.383183",
     "status": "completed"
    },
    "tags": []
   },
   "outputs": [],
   "source": [
    "from sklearn.model_selection import train_test_split\n",
    "from sklearn.pipeline import Pipeline\n",
    "from sklearn.compose import ColumnTransformer\n",
    "from sklearn.preprocessing import OneHotEncoder, OrdinalEncoder, StandardScaler\n",
    "from sklearn.impute import SimpleImputer\n",
    "from sklearn.linear_model import LinearRegression, Ridge, Lasso , SGDRegressor\n",
    "from sklearn.tree import DecisionTreeRegressor\n",
    "from sklearn.ensemble import RandomForestRegressor, GradientBoostingRegressor\n",
    "from sklearn.neighbors import KNeighborsRegressor\n",
    "\n",
    "from xgboost import XGBRegressor\n",
    "from sklearn.metrics import mean_squared_error, mean_absolute_error, r2_score"
   ]
  },
  {
   "cell_type": "markdown",
   "id": "7f49a5ae",
   "metadata": {
    "papermill": {
     "duration": 0.017983,
     "end_time": "2025-06-30T09:08:15.469526",
     "exception": false,
     "start_time": "2025-06-30T09:08:15.451543",
     "status": "completed"
    },
    "tags": []
   },
   "source": [
    "** Understanding why do we need all these imports **\n",
    "\n",
    "\n",
    "**from sklearn.model_selection import train_test_split**\n",
    "\n",
    "✅ Purpose:\n",
    "To split your dataset into training and testing sets.\n",
    "\n",
    "🧠 Why it’s important:\n",
    "\n",
    "You train your model on one part (training set).\n",
    "\n",
    "You test how well it generalizes on unseen data (test set).\n",
    "\n",
    "Prevents overfitting and gives a reliable performance estimate.\n",
    "\n",
    "\n",
    "**from sklearn.impute import SimpleImputer**\n",
    "✅ Purpose:\n",
    "To fill in missing values.\n",
    "\n",
    "🧠 Why it’s important:\n",
    "\n",
    "ML models can’t handle NaN values.\n",
    "\n",
    "You can:\n",
    "\n",
    "Fill numeric columns with mean/median\n",
    "\n",
    "Fill categorical columns with most frequent category\n",
    "\n",
    "**from sklearn.pipeline import Pipeline**\n",
    "✅ Purpose:\n",
    "To chain preprocessing and modeling steps into a single object.\n",
    "\n",
    "🧠 Why it’s important:\n",
    "\n",
    "Keeps your code clean and organized.\n",
    "\n",
    "Ensures all steps (like scaling, encoding) are applied consistently during training and prediction.\n",
    "\n",
    "Makes deployment easier \n",
    "\n",
    " **from sklearn.preprocessing import OneHotEncoder, OrdinalEncoder, StandardScaler**\n",
    "a. OneHotEncoder\n",
    "✅ Converts categorical variables into binary (0/1) columns.\n",
    "\n",
    "Good for nominal data (e.g., 'airline', 'source').\n",
    "\n",
    "b. OrdinalEncoder\n",
    "✅ Converts ordinal categorical data into numeric rankings.\n",
    "\n",
    "Good for ordered data like [\"Low\", \"Medium\", \"High\"].\n",
    "\n",
    "c. StandardScaler\n",
    "✅ Standardizes numeric features by removing the mean and scaling to unit variance.\n",
    "\n",
    "Makes sure all numeric features have similar scale, especially important for linear models or clustering.\n",
    "\n",
    "\n",
    "\n",
    "**from sklearn.compose import ColumnTransformer**\n",
    "✅ Purpose:\n",
    "To apply different preprocessing pipelines to different column types (e.g., numeric vs categorical).\n",
    "\n",
    "🧠 Why it’s important:\n",
    "\n",
    "You can’t apply the same transformation to all columns.\n",
    "\n",
    "It separates the logic:\n",
    "\n",
    "Numeric: impute missing values, scale\n",
    "\n",
    "Categorical: impute missing values, encode\n",
    "\n",
    "Think of it like a multi-pipeline manager for different column types.\n",
    "\n",
    "**from sklearn.linear_model import LinearRegression, Ridge, Lasso\n",
    "from sklearn.tree import DecisionTreeRegressor\n",
    "from sklearn.ensemble import RandomForestRegressor, GradientBoostingRegressor\n",
    "from xgboost import XGBRegressor**\n",
    "\n",
    "✅ Purpose:\n",
    "This is the actual machine learning model you’ll train to predict ticket prices.\n",
    "\n",
    "🧠 Why Random Forest?\n",
    "\n",
    "Works well with both categorical and numeric features.\n",
    "\n",
    "Handles non-linear relationships.\n",
    "\n",
    "Robust to outliers and missing data (to some extent).\n",
    "\n",
    "\n",
    "**from sklearn.metrics import mean_squared_error, mean_absolute_error, r2_score**\n",
    "✅ Purpose:\n",
    "To evaluate how well your model predicts on the test set.\n",
    "\n",
    "🧠 Why it's useful:\n",
    "\n",
    "Measures the average squared difference between actual and predicted values.\n",
    "\n",
    "Lower value = better performance.\n",
    "\n",
    "It's a standard metric for regression tasks."
   ]
  },
  {
   "cell_type": "code",
   "execution_count": 23,
   "id": "d02345b7",
   "metadata": {
    "execution": {
     "iopub.execute_input": "2025-06-30T09:08:15.506901Z",
     "iopub.status.busy": "2025-06-30T09:08:15.506576Z",
     "iopub.status.idle": "2025-06-30T09:08:15.511928Z",
     "shell.execute_reply": "2025-06-30T09:08:15.511023Z"
    },
    "papermill": {
     "duration": 0.02561,
     "end_time": "2025-06-30T09:08:15.513329",
     "exception": false,
     "start_time": "2025-06-30T09:08:15.487719",
     "status": "completed"
    },
    "tags": []
   },
   "outputs": [],
   "source": [
    "#            ┌────────────────────┐\n",
    "#            │    Raw Dataset    │\n",
    "#            └────────────────────┘\n",
    "#                      │\n",
    "#                      ▼\n",
    "#         ┌──────────────────────────────┐\n",
    "#         │ Split into Train/Test Sets   │ ← train_test_split\n",
    "#         └──────────────────────────────┘\n",
    "#                      │\n",
    "#           ┌──────────┴──────────┐\n",
    "#           ▼                     ▼\n",
    "# ┌─────────────────┐     ┌─────────────────────┐\n",
    "# │ Numeric Columns  │     │ Categorical Columns │\n",
    "# └─────────────────┘     └─────────────────────┘\n",
    "#           │                     │\n",
    "#           ▼                     ▼\n",
    "# ┌─────────────────┐     ┌──────────────────────────────┐\n",
    "# │ SimpleImputer   │     │ SimpleImputer (most_frequent)│\n",
    "# │ (median/mean)   │     └──────────────────────────────┘\n",
    "# └─────────────────┘                 │\n",
    "#           │                         ▼\n",
    "#           ▼               ┌─────────────────────┐\n",
    "# ┌────────────────────┐   │ OneHotEncoder        │\n",
    "# │ StandardScaler      │   └─────────────────────┘\n",
    "# └────────────────────┘                 │\n",
    "#           │                            │\n",
    "#           └────────┬──────────────┬────┘\n",
    "#                    ▼              ▼\n",
    "#            ┌──────────────────────────────┐\n",
    "#            │ ColumnTransformer            │\n",
    "#            │ Combines Num + Cat Pipelines │\n",
    "#            └──────────────────────────────┘\n",
    "#                              │\n",
    "#                              ▼\n",
    "#               ┌────────────────────────────┐\n",
    "#               │   RandomForestRegressor    │\n",
    "#               └────────────────────────────┘\n",
    "#                              │\n",
    "#                              ▼\n",
    "#                 ┌────────────────────────┐\n",
    "#                 │ Predict + Evaluate     │\n",
    "#                 │ (mean_squared_error)   │\n",
    "#                 └────────────────────────┘\n"
   ]
  },
  {
   "cell_type": "code",
   "execution_count": 24,
   "id": "54336bfc",
   "metadata": {
    "execution": {
     "iopub.execute_input": "2025-06-30T09:08:15.551231Z",
     "iopub.status.busy": "2025-06-30T09:08:15.550385Z",
     "iopub.status.idle": "2025-06-30T09:08:15.563719Z",
     "shell.execute_reply": "2025-06-30T09:08:15.562862Z"
    },
    "papermill": {
     "duration": 0.03374,
     "end_time": "2025-06-30T09:08:15.565316",
     "exception": false,
     "start_time": "2025-06-30T09:08:15.531576",
     "status": "completed"
    },
    "tags": []
   },
   "outputs": [],
   "source": [
    "#train_test_split \n",
    "target = 'price'\n",
    "# train=train.drop(columns='log_price')\n",
    "X = train.drop(columns=[target])\n",
    "y = train[target]\n",
    "\n",
    "\n",
    "X_train, X_test, y_train, y_test = train_test_split(X, y, test_size=0.2, random_state=42)"
   ]
  },
  {
   "cell_type": "markdown",
   "id": "b392f77b",
   "metadata": {
    "papermill": {
     "duration": 0.01765,
     "end_time": "2025-06-30T09:08:15.601043",
     "exception": false,
     "start_time": "2025-06-30T09:08:15.583393",
     "status": "completed"
    },
    "tags": []
   },
   "source": [
    "# Scale Numerical features and Encode Categorical features"
   ]
  },
  {
   "cell_type": "code",
   "execution_count": 25,
   "id": "b4067a2a",
   "metadata": {
    "execution": {
     "iopub.execute_input": "2025-06-30T09:08:15.638182Z",
     "iopub.status.busy": "2025-06-30T09:08:15.637852Z",
     "iopub.status.idle": "2025-06-30T09:08:15.646467Z",
     "shell.execute_reply": "2025-06-30T09:08:15.645466Z"
    },
    "papermill": {
     "duration": 0.028948,
     "end_time": "2025-06-30T09:08:15.647929",
     "exception": false,
     "start_time": "2025-06-30T09:08:15.618981",
     "status": "completed"
    },
    "tags": []
   },
   "outputs": [
    {
     "name": "stdout",
     "output_type": "stream",
     "text": [
      "numeric_features:  ['duration', 'days_left']\n",
      "categorical_features : ['airline', 'source', 'departure', 'stops', 'arrival', 'destination', 'class']\n"
     ]
    }
   ],
   "source": [
    "# Identify column types\n",
    "numeric_features = X.select_dtypes(include=['int64', 'float64']).columns.tolist()\n",
    "categorical_features = X.select_dtypes(include=['object']).columns.tolist()\n",
    "print(\"numeric_features: \",numeric_features)\n",
    "print(\"categorical_features :\",categorical_features)"
   ]
  },
  {
   "cell_type": "code",
   "execution_count": 26,
   "id": "3249bbad",
   "metadata": {
    "execution": {
     "iopub.execute_input": "2025-06-30T09:08:15.685280Z",
     "iopub.status.busy": "2025-06-30T09:08:15.684955Z",
     "iopub.status.idle": "2025-06-30T09:08:15.689511Z",
     "shell.execute_reply": "2025-06-30T09:08:15.688667Z"
    },
    "papermill": {
     "duration": 0.02513,
     "end_time": "2025-06-30T09:08:15.691058",
     "exception": false,
     "start_time": "2025-06-30T09:08:15.665928",
     "status": "completed"
    },
    "tags": []
   },
   "outputs": [],
   "source": [
    "ordinal_cols = ['stops', 'class']  # 'stops' has a clear order (0, 1, 2), 'class' can be ordered (Economy < Business)\n",
    "nominal_cols = [col for col in categorical_features if col not in ordinal_cols]\n"
   ]
  },
  {
   "cell_type": "code",
   "execution_count": 27,
   "id": "ec4eb1fb",
   "metadata": {
    "execution": {
     "iopub.execute_input": "2025-06-30T09:08:15.729541Z",
     "iopub.status.busy": "2025-06-30T09:08:15.728924Z",
     "iopub.status.idle": "2025-06-30T09:08:15.733671Z",
     "shell.execute_reply": "2025-06-30T09:08:15.732893Z"
    },
    "papermill": {
     "duration": 0.025538,
     "end_time": "2025-06-30T09:08:15.735096",
     "exception": false,
     "start_time": "2025-06-30T09:08:15.709558",
     "status": "completed"
    },
    "tags": []
   },
   "outputs": [],
   "source": [
    "#Create preprocessing pipelines\n",
    "numeric_pipeline = Pipeline([\n",
    "    ('imputer', SimpleImputer(strategy='median')),\n",
    "    ('scaler', StandardScaler())\n",
    "])\n",
    "\n",
    "ordinal_pipeline = Pipeline([\n",
    "    ('imputer', SimpleImputer(strategy='most_frequent')),\n",
    "    ('ordinal', OrdinalEncoder())\n",
    "])\n",
    "\n",
    "nominal_pipeline = Pipeline([\n",
    "    ('imputer', SimpleImputer(strategy='most_frequent')),\n",
    "    ('onehot', OneHotEncoder(handle_unknown='ignore', sparse_output=False))\n",
    "])"
   ]
  },
  {
   "cell_type": "markdown",
   "id": "2027290f",
   "metadata": {
    "papermill": {
     "duration": 0.017364,
     "end_time": "2025-06-30T09:08:15.770523",
     "exception": false,
     "start_time": "2025-06-30T09:08:15.753159",
     "status": "completed"
    },
    "tags": []
   },
   "source": [
    "**Pipeline([...])**\n",
    "→ Creates a sequence of steps to automatically apply to numeric columns during model training or prediction.\n",
    "\n",
    "**('imputer', SimpleImputer(strategy='median'))**\n",
    "→ This fills (imputes) any missing values (NaNs) in numeric columns using the median of that column.\n",
    "\n",
    "('scaler', StandardScaler())\n",
    "→ This standardizes each numeric column by:\n",
    "X(scaled)=(x-mean)/std\n",
    " \n",
    "The result: each column has mean = 0 and std = 1\n",
    "\n",
    "This is especially helpful for models that are sensitive to feature scale (e.g., Linear Regression, SVR).\n",
    "\n",
    "**('imputer', SimpleImputer(strategy='most_frequent'))**\n",
    "\n",
    "Fills in missing values (NaNs) in categorical columns.\n",
    "\n",
    "Uses the most frequent (mode) value of the column.\n",
    "\n",
    "**('onehot', OneHotEncoder(handle_unknown='ignore'))**\n",
    "\n",
    "Converts categorical text values into binary vectors (0s and 1s).\n",
    "\n",
    "For example, a class column with ['Economy', 'Business']\n"
   ]
  },
  {
   "cell_type": "code",
   "execution_count": 28,
   "id": "22835df9",
   "metadata": {
    "execution": {
     "iopub.execute_input": "2025-06-30T09:08:15.807627Z",
     "iopub.status.busy": "2025-06-30T09:08:15.806884Z",
     "iopub.status.idle": "2025-06-30T09:08:15.811304Z",
     "shell.execute_reply": "2025-06-30T09:08:15.810466Z"
    },
    "papermill": {
     "duration": 0.024214,
     "end_time": "2025-06-30T09:08:15.812614",
     "exception": false,
     "start_time": "2025-06-30T09:08:15.788400",
     "status": "completed"
    },
    "tags": []
   },
   "outputs": [],
   "source": [
    "preprocessor = ColumnTransformer([\n",
    "    ('num', numeric_pipeline, numeric_features),\n",
    "    ('ord', ordinal_pipeline, ordinal_cols),\n",
    "    ('nom', nominal_pipeline, nominal_cols)\n",
    "])"
   ]
  },
  {
   "cell_type": "markdown",
   "id": "6c4f03bb",
   "metadata": {
    "papermill": {
     "duration": 0.017574,
     "end_time": "2025-06-30T09:08:15.848500",
     "exception": false,
     "start_time": "2025-06-30T09:08:15.830926",
     "status": "completed"
    },
    "tags": []
   },
   "source": [
    "**ColumnTransformer**\n",
    "It lets you apply different preprocessing steps to different columns in your dataset — all in a single, unified transformer.\n",
    "\n",
    "🔍 Step-by-Step Explanation:\n",
    "('num', numeric_pipeline, numeric_features)\n",
    "\n",
    "Applies the numeric_pipeline (impute + scale) to all columns in numeric_features.\n",
    "\n",
    "('cat', categorical_pipeline, categorical_features)\n",
    "\n",
    "Applies the categorical_pipeline (impute + one-hot encode) to all columns in categorical_features.\n",
    "\n"
   ]
  },
  {
   "cell_type": "markdown",
   "id": "ba8fcc88",
   "metadata": {
    "papermill": {
     "duration": 0.017638,
     "end_time": "2025-06-30T09:08:15.884064",
     "exception": false,
     "start_time": "2025-06-30T09:08:15.866426",
     "status": "completed"
    },
    "tags": []
   },
   "source": [
    "# Model Building"
   ]
  },
  {
   "cell_type": "code",
   "execution_count": 29,
   "id": "d60b96ea",
   "metadata": {
    "execution": {
     "iopub.execute_input": "2025-06-30T09:08:15.920903Z",
     "iopub.status.busy": "2025-06-30T09:08:15.920567Z",
     "iopub.status.idle": "2025-06-30T09:08:37.472919Z",
     "shell.execute_reply": "2025-06-30T09:08:37.472018Z"
    },
    "papermill": {
     "duration": 21.572592,
     "end_time": "2025-06-30T09:08:37.474417",
     "exception": false,
     "start_time": "2025-06-30T09:08:15.901825",
     "status": "completed"
    },
    "tags": []
   },
   "outputs": [
    {
     "name": "stdout",
     "output_type": "stream",
     "text": [
      "\n",
      "🔁 Training and Evaluating: Linear Regression\n",
      "✅ RMSE: ₹6787.91\n",
      "✅ MAE:  ₹4573.51\n",
      "✅ R²:   0.9100\n",
      "\n",
      "🔁 Training and Evaluating: Lasso Regression\n",
      "✅ RMSE: ₹6787.87\n",
      "✅ MAE:  ₹4573.39\n",
      "✅ R²:   0.9100\n",
      "\n",
      "🔁 Training and Evaluating: SGD Regressor\n",
      "✅ RMSE: ₹6793.75\n",
      "✅ MAE:  ₹4598.50\n",
      "✅ R²:   0.9098\n",
      "\n",
      "🔁 Training and Evaluating: Decision Tree\n",
      "✅ RMSE: ₹5272.45\n",
      "✅ MAE:  ₹2497.63\n",
      "✅ R²:   0.9457\n",
      "\n",
      "🔁 Training and Evaluating: Random Forest\n",
      "✅ RMSE: ₹3853.38\n",
      "✅ MAE:  ₹2103.65\n",
      "✅ R²:   0.9710\n",
      "\n",
      "🔁 Training and Evaluating: Gradient Boosting\n",
      "✅ RMSE: ₹5083.39\n",
      "✅ MAE:  ₹3054.18\n",
      "✅ R²:   0.9495\n",
      "\n",
      "🔁 Training and Evaluating: XGBoost\n",
      "✅ RMSE: ₹4346.39\n",
      "✅ MAE:  ₹2558.66\n",
      "✅ R²:   0.9631\n",
      "\n",
      "🔁 Training and Evaluating: K-Nearest Neighbors\n",
      "✅ RMSE: ₹9555.34\n",
      "✅ MAE:  ₹5651.27\n",
      "✅ R²:   0.8216\n"
     ]
    }
   ],
   "source": [
    "\n",
    "# Define all models\n",
    "models = {\n",
    "    \"Linear Regression\": LinearRegression(),\n",
    "    \"Lasso Regression\": Lasso(alpha=0.1),\n",
    "    \"SGD Regressor\": SGDRegressor(max_iter=1000, tol=1e-3, random_state=42),\n",
    "    \"Decision Tree\": DecisionTreeRegressor(random_state=42),\n",
    "    \"Random Forest\": RandomForestRegressor(n_estimators=100, random_state=42),\n",
    "    \"Gradient Boosting\": GradientBoostingRegressor(n_estimators=100, learning_rate=0.1, random_state=42),\n",
    "    \"XGBoost\": XGBRegressor(n_estimators=100, learning_rate=0.1, random_state=42),\n",
    "    \"K-Nearest Neighbors\": KNeighborsRegressor()\n",
    "\n",
    "}\n",
    "\n",
    "# Loop through models and evaluate\n",
    "for name, model in models.items():\n",
    "    print(f\"\\n🔁 Training and Evaluating: {name}\")\n",
    "    \n",
    "    # Build full pipeline with the model\n",
    "    model_pipeline = Pipeline([\n",
    "        ('preprocessor', preprocessor),\n",
    "        ('model', model)\n",
    "    ])\n",
    "    \n",
    "    # Fit pipeline\n",
    "    model_pipeline.fit(X_train, y_train)\n",
    "    \n",
    "    # Predict (in log scale)\n",
    "    y_pred = model_pipeline.predict(X_test)\n",
    "\n",
    "    # Evaluation metrics\n",
    "    mse = mean_squared_error(y_test, y_pred)\n",
    "    rmse = np.sqrt(mse)\n",
    "    mae = mean_absolute_error(y_test, y_pred)\n",
    "    r2 = r2_score(y_test, y_pred)\n",
    "\n",
    "    print(f\"✅ RMSE: ₹{rmse:.2f}\")\n",
    "    print(f\"✅ MAE:  ₹{mae:.2f}\")\n",
    "    print(f\"✅ R²:   {r2:.4f}\")\n"
   ]
  },
  {
   "cell_type": "markdown",
   "id": "e2c37d3f",
   "metadata": {
    "papermill": {
     "duration": 0.018055,
     "end_time": "2025-06-30T09:08:37.511179",
     "exception": false,
     "start_time": "2025-06-30T09:08:37.493124",
     "status": "completed"
    },
    "tags": []
   },
   "source": [
    "**'preprocessor', preprocessor**\n",
    "This applies the ColumnTransformer we built earlier.\n",
    "\n",
    "It:\n",
    "\n",
    "Imputes missing numeric/categorical values\n",
    "\n",
    "Scales numeric features\n",
    "\n",
    "One-hot encodes categorical features\n",
    "\n",
    "**2. 'model', RandomForestRegressor(...)**\n",
    "After preprocessing, the cleaned/transformed data goes into a Random Forest regression model.\n",
    "\n",
    "random_state=42 ensures reproducibility (same results every run)."
   ]
  },
  {
   "cell_type": "code",
   "execution_count": 30,
   "id": "1eaa13b3",
   "metadata": {
    "execution": {
     "iopub.execute_input": "2025-06-30T09:08:37.549464Z",
     "iopub.status.busy": "2025-06-30T09:08:37.549187Z",
     "iopub.status.idle": "2025-06-30T09:08:37.553502Z",
     "shell.execute_reply": "2025-06-30T09:08:37.552749Z"
    },
    "papermill": {
     "duration": 0.025302,
     "end_time": "2025-06-30T09:08:37.554843",
     "exception": false,
     "start_time": "2025-06-30T09:08:37.529541",
     "status": "completed"
    },
    "tags": []
   },
   "outputs": [],
   "source": [
    "# import matplotlib.pyplot as plt\n",
    "\n",
    "# # Model performance (name, RMSE, R2)\n",
    "# results = {\n",
    "#     'Linear': (8007.53, 0.8751),\n",
    "#     'Lasso': (11516.75, 0.7416),\n",
    "#     'SGD': (8165.00, 0.8701),\n",
    "#     'Decision Tree': (4985.18, 0.9516),\n",
    "#     'Random Forest': (3895.63, 0.9704),\n",
    "#     'Gradient Boosting': (5401.77, 0.9432),\n",
    "#     'XGBoost': (4575.71, 0.9592),\n",
    "#     'KNN': (10884.85, 0.7692)\n",
    "# }\n",
    "\n",
    "# # Extract for plotting\n",
    "# models = list(results.keys())\n",
    "# rmse = [v[0] for v in results.values()]\n",
    "# r2 = [v[1] for v in results.values()]\n",
    "\n",
    "# # Plot RMSE\n",
    "# plt.figure(figsize=(10, 5))\n",
    "# plt.bar(models, rmse, color='skyblue')\n",
    "# plt.ylabel('RMSE (₹)')\n",
    "# plt.title('Model Comparison - RMSE')\n",
    "# plt.xticks(rotation=45)\n",
    "# plt.tight_layout()\n",
    "# plt.show()\n",
    "\n",
    "# # Plot R²\n",
    "# plt.figure(figsize=(10, 5))\n",
    "# plt.bar(models, r2, color='orange')\n",
    "# plt.ylabel('R² Score')\n",
    "# plt.title('Model Comparison - R²')\n",
    "# plt.xticks(rotation=45)\n",
    "# plt.tight_layout()\n",
    "# plt.show()\n"
   ]
  },
  {
   "cell_type": "markdown",
   "id": "2673271d",
   "metadata": {
    "papermill": {
     "duration": 0.018558,
     "end_time": "2025-06-30T09:08:37.592805",
     "exception": false,
     "start_time": "2025-06-30T09:08:37.574247",
     "status": "completed"
    },
    "tags": []
   },
   "source": [
    "**Top Performing Models:**\n",
    "1. Random Forest\n",
    "2. XGBoost\n",
    "3. Gradient Boosting\n"
   ]
  },
  {
   "cell_type": "markdown",
   "id": "0843c8e7",
   "metadata": {
    "papermill": {
     "duration": 0.018262,
     "end_time": "2025-06-30T09:08:37.629591",
     "exception": false,
     "start_time": "2025-06-30T09:08:37.611329",
     "status": "completed"
    },
    "tags": []
   },
   "source": [
    "# Hyperparameter Tuning"
   ]
  },
  {
   "cell_type": "code",
   "execution_count": 31,
   "id": "7d77f006",
   "metadata": {
    "execution": {
     "iopub.execute_input": "2025-06-30T09:08:37.668308Z",
     "iopub.status.busy": "2025-06-30T09:08:37.668011Z",
     "iopub.status.idle": "2025-06-30T09:09:41.351582Z",
     "shell.execute_reply": "2025-06-30T09:09:41.350522Z"
    },
    "papermill": {
     "duration": 63.705142,
     "end_time": "2025-06-30T09:09:41.353156",
     "exception": false,
     "start_time": "2025-06-30T09:08:37.648014",
     "status": "completed"
    },
    "tags": []
   },
   "outputs": [
    {
     "name": "stdout",
     "output_type": "stream",
     "text": [
      "Fitting 2 folds for each of 5 candidates, totalling 10 fits\n",
      "Fitting 2 folds for each of 5 candidates, totalling 10 fits\n",
      "Fitting 2 folds for each of 5 candidates, totalling 10 fits\n",
      "\n",
      "✅ Best Random Forest Params: {'model__n_estimators': 100, 'model__min_samples_split': 2, 'model__max_depth': None}\n",
      "✅ Best XGBoost Params: {'model__n_estimators': 100, 'model__max_depth': 5, 'model__learning_rate': 0.1}\n",
      "✅ Best Gradient Boosting Params: {'model__n_estimators': 150, 'model__min_samples_split': 2, 'model__min_samples_leaf': 2, 'model__max_depth': 5, 'model__learning_rate': 0.1}\n",
      "\n",
      "📊 Random Forest Evaluation:\n",
      "✅ RMSE: ₹3853.38\n",
      "✅ MAE:  ₹2103.65\n",
      "✅ R²:   0.9710\n",
      "\n",
      "📊 XGBoost Evaluation:\n",
      "✅ RMSE: ₹4555.40\n",
      "✅ MAE:  ₹2705.92\n",
      "✅ R²:   0.9595\n",
      "\n",
      "📊 Gradient Boosting Evaluation:\n",
      "✅ RMSE: ₹4428.51\n",
      "✅ MAE:  ₹2632.99\n",
      "✅ R²:   0.9617\n"
     ]
    }
   ],
   "source": [
    "from sklearn.model_selection import RandomizedSearchCV , GridSearchCV\n",
    "\n",
    "\n",
    "# Define hyperparameter grids\n",
    "rf_params = {\n",
    "    'model__n_estimators': [50, 100],\n",
    "    'model__max_depth': [10, 20, None],\n",
    "    'model__min_samples_split': [2, 5]\n",
    "}\n",
    "\n",
    "# For XGBoost inside Pipeline\n",
    "xgb_params = {\n",
    "    'model__n_estimators': [50, 100],\n",
    "    'model__learning_rate': [0.05, 0.1],\n",
    "    'model__max_depth': [3, 5]\n",
    "}\n",
    "\n",
    "gb_params = {\n",
    "    'model__n_estimators': [100, 150],\n",
    "    'model__learning_rate': [0.05, 0.1],\n",
    "    'model__max_depth': [3, 5],\n",
    "    'model__min_samples_split': [2, 5],\n",
    "    'model__min_samples_leaf': [1, 2]\n",
    "}\n",
    "\n",
    "\n",
    "\n",
    "\n",
    "rf_pipe = Pipeline([\n",
    "    ('preprocessor', preprocessor),\n",
    "    ('model', RandomForestRegressor(random_state=42))\n",
    "])\n",
    "\n",
    "xgb_pipe = Pipeline([\n",
    "    ('preprocessor', preprocessor),\n",
    "    ('model', XGBRegressor(random_state=42, verbosity=0))\n",
    "])\n",
    "\n",
    "gb_pipe = Pipeline([\n",
    "    ('preprocessor', preprocessor),\n",
    "    ('model', GradientBoostingRegressor(random_state=42))\n",
    "])\n",
    "\n",
    "# Create RandomizedSearchCV objects\n",
    "rf_search = RandomizedSearchCV(rf_pipe, rf_params, n_iter=5, scoring='r2', cv=2, verbose=1, random_state=42, n_jobs=-1)\n",
    "xgb_search = RandomizedSearchCV(xgb_pipe, xgb_params, n_iter=5, scoring='r2', cv=2, verbose=1, random_state=42, n_jobs=-1)\n",
    "gb_search = RandomizedSearchCV(gb_pipe, gb_params, n_iter=5, scoring='r2', cv=2, verbose=1, random_state=42, n_jobs=-1)\n",
    "\n",
    "# Fit the models\n",
    "rf_search.fit(X_train, y_train)\n",
    "xgb_search.fit(X_train, y_train)\n",
    "gb_search.fit(X_train, y_train)\n",
    "\n",
    "# Print best parameters\n",
    "print(\"\\n✅ Best Random Forest Params:\", rf_search.best_params_)\n",
    "print(\"✅ Best XGBoost Params:\", xgb_search.best_params_)\n",
    "print(\"✅ Best Gradient Boosting Params:\", gb_search.best_params_)\n",
    "\n",
    "\n",
    "def evaluate_model(search, name):\n",
    "    y_pred = search.predict(X_test)\n",
    "    rmse = np.sqrt(mean_squared_error(y_test, y_pred))\n",
    "    mae = mean_absolute_error(y_test, y_pred)\n",
    "    r2 = r2_score(y_test, y_pred)\n",
    "    print(f\"\\n📊 {name} Evaluation:\")\n",
    "    print(f\"✅ RMSE: ₹{rmse:.2f}\")\n",
    "    print(f\"✅ MAE:  ₹{mae:.2f}\")\n",
    "    print(f\"✅ R²:   {r2:.4f}\")\n",
    "\n",
    "# Run evaluation\n",
    "evaluate_model(rf_search, \"Random Forest\")\n",
    "evaluate_model(xgb_search, \"XGBoost\")\n",
    "evaluate_model(gb_search, \"Gradient Boosting\")"
   ]
  },
  {
   "cell_type": "markdown",
   "id": "5c06c964",
   "metadata": {
    "papermill": {
     "duration": 0.018089,
     "end_time": "2025-06-30T09:09:41.390580",
     "exception": false,
     "start_time": "2025-06-30T09:09:41.372491",
     "status": "completed"
    },
    "tags": []
   },
   "source": [
    "# Random Forest and XGBoost are our best performing model\n",
    "selecting random forest."
   ]
  },
  {
   "cell_type": "code",
   "execution_count": 32,
   "id": "dfd05364",
   "metadata": {
    "execution": {
     "iopub.execute_input": "2025-06-30T09:09:41.429184Z",
     "iopub.status.busy": "2025-06-30T09:09:41.428890Z",
     "iopub.status.idle": "2025-06-30T09:09:41.746833Z",
     "shell.execute_reply": "2025-06-30T09:09:41.746039Z"
    },
    "papermill": {
     "duration": 0.338971,
     "end_time": "2025-06-30T09:09:41.748371",
     "exception": false,
     "start_time": "2025-06-30T09:09:41.409400",
     "status": "completed"
    },
    "tags": []
   },
   "outputs": [],
   "source": [
    "y_pred_unseen = rf_search.predict(test)\n",
    "\n",
    "# Convert predictions back to original price scale\n"
   ]
  },
  {
   "cell_type": "code",
   "execution_count": 33,
   "id": "c3dbff9a",
   "metadata": {
    "execution": {
     "iopub.execute_input": "2025-06-30T09:09:41.788375Z",
     "iopub.status.busy": "2025-06-30T09:09:41.788075Z",
     "iopub.status.idle": "2025-06-30T09:09:41.813418Z",
     "shell.execute_reply": "2025-06-30T09:09:41.812729Z"
    },
    "papermill": {
     "duration": 0.047765,
     "end_time": "2025-06-30T09:09:41.815206",
     "exception": false,
     "start_time": "2025-06-30T09:09:41.767441",
     "status": "completed"
    },
    "tags": []
   },
   "outputs": [],
   "source": [
    "submission=pd.DataFrame({'id':range(0,test.shape[0]),'price':y_pred_unseen})\n",
    "submission.to_csv(\"submission.csv\",index=False)"
   ]
  },
  {
   "cell_type": "code",
   "execution_count": null,
   "id": "085ad700",
   "metadata": {
    "papermill": {
     "duration": 0.018076,
     "end_time": "2025-06-30T09:09:41.851963",
     "exception": false,
     "start_time": "2025-06-30T09:09:41.833887",
     "status": "completed"
    },
    "tags": []
   },
   "outputs": [],
   "source": []
  }
 ],
 "metadata": {
  "kaggle": {
   "accelerator": "none",
   "dataSources": [
    {
     "databundleVersionId": 12770423,
     "sourceId": 105665,
     "sourceType": "competition"
    }
   ],
   "dockerImageVersionId": 31040,
   "isGpuEnabled": false,
   "isInternetEnabled": true,
   "language": "python",
   "sourceType": "notebook"
  },
  "kernelspec": {
   "display_name": "Python 3",
   "language": "python",
   "name": "python3"
  },
  "language_info": {
   "codemirror_mode": {
    "name": "ipython",
    "version": 3
   },
   "file_extension": ".py",
   "mimetype": "text/x-python",
   "name": "python",
   "nbconvert_exporter": "python",
   "pygments_lexer": "ipython3",
   "version": "3.11.11"
  },
  "papermill": {
   "default_parameters": {},
   "duration": 103.643598,
   "end_time": "2025-06-30T09:09:44.490064",
   "environment_variables": {},
   "exception": null,
   "input_path": "__notebook__.ipynb",
   "output_path": "__notebook__.ipynb",
   "parameters": {},
   "start_time": "2025-06-30T09:08:00.846466",
   "version": "2.6.0"
  }
 },
 "nbformat": 4,
 "nbformat_minor": 5
}
